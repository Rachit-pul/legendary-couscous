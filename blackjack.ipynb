{
 "cells": [
  {
   "cell_type": "code",
   "execution_count": 1,
   "metadata": {},
   "outputs": [],
   "source": [
    "card_family=('Spades','Clubs','Hearts','Diamonds')\n",
    "card_value={'Two':2,'Three':3,'Four':4,'Five':5,'Six':6,'Seven':7,'Eight':8,'Nine':9,'Tens':10,'Jacks':10,'Queen':10,'Kings':10,'Ace':11}\n",
    "card_type=card_value.keys()\n",
    "card_type=list(card_type)"
   ]
  },
  {
   "cell_type": "code",
   "execution_count": 2,
   "metadata": {},
   "outputs": [],
   "source": [
    "class PlayerInfo:\n",
    "    def __init__(self,chips):\n",
    "        self.chips=chips\n",
    "        self.plyrhand=[]\n",
    "    def addtohand(self,plyrcard):\n",
    "        self.plyrhand.append(plyrcard)"
   ]
  },
  {
   "cell_type": "code",
   "execution_count": 3,
   "metadata": {},
   "outputs": [],
   "source": [
    "class DealerInfo:\n",
    "    def __init__(self,chips=0):\n",
    "        self.chips=chips\n",
    "        self.delrhand=[]\n",
    "    def addtohand(self,delrcard):\n",
    "        self.delrhand.append(delrcard)"
   ]
  },
  {
   "cell_type": "code",
   "execution_count": 4,
   "metadata": {},
   "outputs": [],
   "source": [
    "import random\n",
    "class Deck():\n",
    "    def __init__(self):\n",
    "        self.cardset=[]\n",
    "        for x in card_family:\n",
    "            for y in card_type:\n",
    "                self.cardset.append(CardInfo(y,x))\n",
    "    def random_select(self):\n",
    "        abcde = random.choice(self.cardset)\n",
    "        self.cardset.remove(abcde)\n",
    "        return abcde"
   ]
  },
  {
   "cell_type": "code",
   "execution_count": 5,
   "metadata": {},
   "outputs": [],
   "source": [
    "class CardInfo():\n",
    "    def __init__(self,card_rank,family):\n",
    "        self.card_rank=card_rank\n",
    "        self.family=family\n",
    "    def __str__(self):\n",
    "        return f'{self.card_rank} of {self.family}'"
   ]
  },
  {
   "cell_type": "code",
   "execution_count": 6,
   "metadata": {
    "scrolled": true
   },
   "outputs": [
    {
     "name": "stdout",
     "output_type": "stream",
     "text": [
      "Enter chips amount to start with : 10\n"
     ]
    }
   ],
   "source": [
    "player=PlayerInfo(int(input('Enter chips amount to start with : ')))\n",
    "dealer=DealerInfo()\n",
    "playingdeck=Deck()"
   ]
  },
  {
   "cell_type": "code",
   "execution_count": 7,
   "metadata": {
    "scrolled": true
   },
   "outputs": [],
   "source": [
    "def sum_value(inhand):\n",
    "    sum_in_hand=0\n",
    "    for i in range(len(inhand)):\n",
    "        sum_in_hand+=card_value[inhand[i][0]]\n",
    "    if sum_in_hand > 21:\n",
    "        return f'sum is {sum_in_hand}  BUST!'\n",
    "    else:\n",
    "        return sum_in_hand    "
   ]
  },
  {
   "cell_type": "code",
   "execution_count": 8,
   "metadata": {},
   "outputs": [],
   "source": [
    "def hitorstay():\n",
    "    choice_hit_stay=input('Would you like to hit or stay?')\n",
    "    if choice_hit_stay.lower()=='hit':\n",
    "        card_from_deck=playingdeck.random_select()\n",
    "        card_active=(card_from_deck.card_rank,card_from_deck.family)\n",
    "        player.addtohand(card_active)\n",
    "        print(f'your new hand is \\n {player.plyrhand}')\n",
    "        tocheckforbust=sum_value(player.plyrhand)\n",
    "        if type(tocheckforbust)==int:    \n",
    "            print(f' the sum now is: {tocheckforbust}')\n",
    "            hitorstay()\n",
    "        else:\n",
    "            return tocheckforbust\n",
    "    elif choice_hit_stay.lower()=='stay':\n",
    "        print('you decided to stay,no change in your hand')\n",
    "        stay_return= sum_value(player.plyrhand)\n",
    "        print(f'your sum still is: {stay_return}')\n",
    "    else:\n",
    "        print('incorrect choice please try again : ')\n",
    "        hitorstay()"
   ]
  },
  {
   "cell_type": "code",
   "execution_count": 9,
   "metadata": {},
   "outputs": [],
   "source": [
    "def betplacer():\n",
    "    bet=int(input('enter your bet ,enter 0 if you have no chips left or want to quit :( '))\n",
    "    if (bet>player.chips):\n",
    "        print('you dont have that many chips')\n",
    "        betplacer()\n",
    "    else:\n",
    "        player.chips-=bet\n",
    "        print(f'accepted,you  have {player.chips} chips left') \n",
    "        return bet"
   ]
  },
  {
   "cell_type": "code",
   "execution_count": 10,
   "metadata": {
    "scrolled": false
   },
   "outputs": [
    {
     "name": "stdout",
     "output_type": "stream",
     "text": [
      "Welcome to : simplified blackjack!\n",
      "The rules are not exactly the same as blackjack sadly,they are : \n",
      "1.ace has the value 11 at all times and face cards have value 10\n",
      "2.going over 21 causes a bust\n",
      "3.Player and dealer get 2 cards and the player can only see one card in the dealers hand.\n",
      "4.the player can hit unless they go over 21 <bust>\n",
      "5.the dealer will hit until they win<have a sum higher than the player> or go over 21<bust>\n",
      "enter your bet ,enter 0 if you have no chips left or want to quit :( 10\n",
      "accepted,you  have 0 chips left\n",
      "The game is starting now,good luck!\n",
      "here are your two cards : \n",
      "[('Ace', 'Diamonds'), ('Six', 'Clubs')]\n",
      "sum of the cards : 17\n",
      "\n",
      " the dealer has : \n",
      "('Jacks', 'Hearts'),(unturned,unturned)\n",
      "Would you like to hit or stay?stay\n",
      "you decided to stay,no change in your hand\n",
      "your sum still is: 17\n",
      "now the dealer has to decide,their hand currently\n",
      "[('Jacks', 'Hearts'), ('Queen', 'Hearts')]\n",
      "the dealer won xx try again\n"
     ]
    }
   ],
   "source": [
    "print('Welcome to : simplified blackjack!')\n",
    "print('The rules are not exactly the same as blackjack sadly,they are : ')\n",
    "print('1.ace has the value 11 at all times and face cards have value 10') \n",
    "print('2.going over 21 causes a bust')\n",
    "print('3.Player and dealer get 2 cards and the player can only see one card in the dealers hand.')\n",
    "print('4.the player can hit unless they go over 21 <bust>')\n",
    "print('5.the dealer will hit until they win<have a sum higher than the player> or go over 21<bust>')\n",
    "start_check=betplacer()\n",
    "print('The game is starting now,good luck!')\n",
    "print('here are your two cards : ')\n",
    "for i in range(0,2):\n",
    "    card_from_deck=playingdeck.random_select()\n",
    "    card_active=(card_from_deck.card_rank,card_from_deck.family)\n",
    "    player.addtohand(card_active)\n",
    "print(player.plyrhand)\n",
    "print(f'sum of the cards : {sum_value(player.plyrhand)}')\n",
    "print('\\n the dealer has : ')\n",
    "for i in range(0,2):\n",
    "        card_from_deck=playingdeck.random_select()\n",
    "        card_active=(card_from_deck.card_rank,card_from_deck.family)\n",
    "        dealer.addtohand(card_active)\n",
    "print(f'{dealer.delrhand[0]},(unturned,unturned)')\n",
    "main_check_fin=hitorstay()\n",
    "if main_check_fin==None:\n",
    "    a=sum_value(player.plyrhand)\n",
    "    print('now the dealer has to decide,their hand currently')\n",
    "    print(dealer.delrhand)\n",
    "    b=sum_value(dealer.delrhand)\n",
    "    if(b>a):\n",
    "        print('the dealer won xx try again')\n",
    "    while(a>=b):\n",
    "        card_from_deck=playingdeck.random_select()\n",
    "        card_active=(card_from_deck.card_rank,card_from_deck.family)\n",
    "        dealer.addtohand(card_active)\n",
    "        print(f'The Dealer has {dealer.delrhand}')\n",
    "        if type(sum_value(dealer.delrhand))==str:\n",
    "            print('dealer bust you win!')\n",
    "            break\n",
    "        elif (sum_value(dealer.delrhand)>sum_value(player.plyrhand)):\n",
    "            print('dealer won xx try again!')\n",
    "            break\n",
    "else:\n",
    "    print(main_check_fin)\n",
    "\n",
    "\n",
    "\n"
   ]
  }
 ],
 "metadata": {
  "kernelspec": {
   "display_name": "Python 3",
   "language": "python",
   "name": "python3"
  },
  "language_info": {
   "codemirror_mode": {
    "name": "ipython",
    "version": 3
   },
   "file_extension": ".py",
   "mimetype": "text/x-python",
   "name": "python",
   "nbconvert_exporter": "python",
   "pygments_lexer": "ipython3",
   "version": "3.7.3"
  }
 },
 "nbformat": 4,
 "nbformat_minor": 2
}
