{
 "cells": [
  {
   "cell_type": "code",
   "execution_count": 37,
   "metadata": {},
   "outputs": [],
   "source": [
    "def pana(st):\n",
    "    st=st.lower()\n",
    "    s=[]\n",
    "    li_aplha=['a','b','c','d','e','f','g','h','i','j','k','l','m','n','o','p','q','r','s','t','u','v','w','x','y','z']\n",
    "    for x in range(len(st)):\n",
    "        if st[x]==' ':\n",
    "            continue\n",
    "        else:\n",
    "            s.append(st[x])\n",
    "    s.sort()\n",
    "    if s[0]==li_aplha[0]:\n",
    "        print('panagram')\n",
    "    else:\n",
    "        print('not a panagram')"
   ]
  },
  {
   "cell_type": "code",
   "execution_count": 38,
   "metadata": {
    "scrolled": true
   },
   "outputs": [
    {
     "name": "stdout",
     "output_type": "stream",
     "text": [
      "panagram\n"
     ]
    }
   ],
   "source": [
    "pana('the quick brown frog jumps over the crazy dog')"
   ]
  }
 ],
 "metadata": {
  "kernelspec": {
   "display_name": "Python 3",
   "language": "python",
   "name": "python3"
  },
  "language_info": {
   "codemirror_mode": {
    "name": "ipython",
    "version": 3
   },
   "file_extension": ".py",
   "mimetype": "text/x-python",
   "name": "python",
   "nbconvert_exporter": "python",
   "pygments_lexer": "ipython3",
   "version": "3.7.3"
  }
 },
 "nbformat": 4,
 "nbformat_minor": 2
}
