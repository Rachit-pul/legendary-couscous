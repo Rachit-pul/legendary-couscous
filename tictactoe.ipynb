{
 "cells": [
  {
   "cell_type": "code",
   "execution_count": null,
   "metadata": {},
   "outputs": [],
   "source": [
    "def display(board):\n",
    "    print(str(board[0])+'|'+str(board[1])+'|'+str(board[2]))\n",
    "    print('-------')\n",
    "    print(str(board[3])+'|'+str(board[4])+'|'+str(board[5]))\n",
    "    print('-------')\n",
    "    print(str(board[6])+'|'+str(board[7])+'|'+str(board[8]))"
   ]
  },
  {
   "cell_type": "code",
   "execution_count": null,
   "metadata": {},
   "outputs": [],
   "source": [
    "def enter_plyrx(board):\n",
    "    choice_plyrx=int(input(f'Enter number on board for {icon_plyrx}'))\n",
    "    if board[choice_plyrx]!='X' and board[choice_plyrx]!='O':\n",
    "        board[choice_plyrx]='X'\n",
    "        display(board)\n",
    "    else:\n",
    "        print('please enter an un-used cell')\n",
    "        enter_plyrx(board)"
   ]
  },
  {
   "cell_type": "code",
   "execution_count": null,
   "metadata": {},
   "outputs": [],
   "source": [
    "def enter_plyro(board):\n",
    "    choice_plyro=int(input(f'Enter number on board for {icon_plyro} '))\n",
    "    if board[choice_plyro]!='X' and board[choice_plyro]!='O':\n",
    "        board[choice_plyro]='O'\n",
    "        display(board)\n",
    "    else:\n",
    "        print('please enter an un-used cell')\n",
    "        enter_plyro(board)"
   ]
  },
  {
   "cell_type": "code",
   "execution_count": null,
   "metadata": {},
   "outputs": [],
   "source": [
    "def win_checkerx(board):\n",
    "    global win_final\n",
    "    if ((str(board[0])==icon_plyrx) and (str(board[1])== icon_plyrx) and (str(board[2])==icon_plyrx))==True:\n",
    "        win_final=True\n",
    "        return str(board[0])\n",
    "    if ((str(board[3])==icon_plyrx) and (str(board[4])== icon_plyrx) and (str(board[5])== icon_plyrx))==True:\n",
    "        win_final=True\n",
    "        return str(board[3])\n",
    "    if ((str(board[6])==icon_plyrx) and (str(board[7])== icon_plyrx) and (str(board[8])==icon_plyrx))==True:\n",
    "        win_final=True\n",
    "        return str(board[6])\n",
    "    if ((str(board[0])==icon_plyrx) and (str(board[4])==icon_plyrx) and (str(board[8])==icon_plyrx))==True:\n",
    "        win_final=True\n",
    "        return str(board[0])\n",
    "    if ((str(board[2])==icon_plyrx) and (str(board[4])==icon_plyrx) and (str(board[6])==icon_plyrx))==True:\n",
    "        win_final=True\n",
    "        return str(board[2])\n",
    "    if ((str(board[0])==icon_plyrx) and (str(board[3])==icon_plyrx) and (str(board[6])==icon_plyrx))==True:\n",
    "        win_final=True\n",
    "        return str(board[0])\n",
    "    if ((str(board[1])==icon_plyrx) and (str(board[4])==icon_plyrx) and (str(board[7])==icon_plyrx))==True:\n",
    "        win_final=True\n",
    "        return str(board[0])\n",
    "    if ((str(board[2])==icon_plyrx) and (str(board[5])==icon_plyrx) and (str(board[8])==icon_plyrx))==True:\n",
    "        win_final=True\n",
    "        return str(board[0]) "
   ]
  },
  {
   "cell_type": "code",
   "execution_count": null,
   "metadata": {},
   "outputs": [],
   "source": [
    "def win_checkero(board):\n",
    "    global win_final\n",
    "    if ((str(board[0])==icon_plyro) and (str(board[1])== icon_plyro) and (str(board[2])==icon_plyro))==True:\n",
    "        win_final=True\n",
    "        return str(board[0])\n",
    "    if ((str(board[3])==icon_plyro) and (str(board[4])== icon_plyro) and (str(board[5])== icon_plyro))==True:\n",
    "        win_final=True\n",
    "        return str(board[3])\n",
    "    if ((str(board[6])==icon_plyro) and (str(board[7])== icon_plyro) and (str(board[8])==icon_plyro))==True:\n",
    "        win_final=True\n",
    "        return str(board[6])\n",
    "    if ((str(board[0])==icon_plyro) and (str(board[4])==icon_plyro) and (str(board[8])==icon_plyro))==True:\n",
    "        win_final=True\n",
    "        return str(board[0])\n",
    "    if ((str(board[2])==icon_plyro) and (str(board[4])==icon_plyro) and (str(board[6])==icon_plyro))==True:\n",
    "        win_final=True\n",
    "        return str(board[2])\n",
    "    if ((str(board[0])==icon_plyro) and (str(board[3])==icon_plyro) and (str(board[6])==icon_plyro))==True:\n",
    "        win_final=True\n",
    "        return str(board[0])\n",
    "    if ((str(board[1])==icon_plyro) and (str(board[4])==icon_plyro) and (str(board[7])==icon_plyro))==True:\n",
    "        win_final=True\n",
    "        return str(board[1])\n",
    "    if ((str(board[2])==icon_plyro) and (str(board[5])==icon_plyro) and (str(board[8])==icon_plyro))==True:\n",
    "        win_final=True\n",
    "        return str(board[0]) "
   ]
  },
  {
   "cell_type": "code",
   "execution_count": null,
   "metadata": {},
   "outputs": [],
   "source": [
    "board=[0,1,2,3,4,5,6,7,8]\n",
    "print('Welcome to tictactoe')\n",
    "print('player 1 will be X and player 2 will be O')\n",
    "start_stop_ch=input('enter True to start the game and False to end : ')\n",
    "icon_plyrx='X'\n",
    "icon_plyro='O'\n",
    "while start_stop_ch:\n",
    "    win_final=False\n",
    "    while not win_final:\n",
    "        print('\\n \\n The board currently looks like :')\n",
    "        display(board)\n",
    "        print('player 1 ')\n",
    "        enter_plyrx(board)\n",
    "        winner=win_checkerx(board)\n",
    "        if win_final==True:\n",
    "            print(f'The winner is {winner} ')\n",
    "            break;\n",
    "        print('player 2')\n",
    "        enter_plyro(board)\n",
    "        winner=win_checkero(board)\n",
    "        if win_final==True:\n",
    "            print(f'The winner is {winner} ')\n",
    "            break;\n",
    "       \n",
    "    start_stop_ch=input('enter True to start the game and False to end')\n",
    "    board=[0,1,2,3,4,5,6,7,8]\n",
    "    \n",
    "\n",
    "\n"
   ]
  },
  {
   "cell_type": "code",
   "execution_count": null,
   "metadata": {},
   "outputs": [],
   "source": []
  }
 ],
 "metadata": {
  "kernelspec": {
   "display_name": "Python 3",
   "language": "python",
   "name": "python3"
  },
  "language_info": {
   "codemirror_mode": {
    "name": "ipython",
    "version": 3
   },
   "file_extension": ".py",
   "mimetype": "text/x-python",
   "name": "python",
   "nbconvert_exporter": "python",
   "pygments_lexer": "ipython3",
   "version": "3.7.3"
  }
 },
 "nbformat": 4,
 "nbformat_minor": 2
}
